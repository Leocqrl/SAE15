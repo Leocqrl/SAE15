{
 "cells": [
  {
   "cell_type": "code",
   "execution_count": null,
   "metadata": {},
   "outputs": [],
   "source": [
    "import csv\n",
    "import pandas as pd\n",
    "from tkinter import *\n",
    "from tkinter import ttk\n",
    "\n",
    "fenetre = Tk()\n",
    "fenetre.title(\"Tableau des entreprises par région\")\n",
    "colonne = (\"Région\", \"Entreprises\")\n",
    "tableau = ttk.Treeview(fenetre, columns=colonne, show=\"headings\")\n",
    "tableau.column(\"Région\", width=200)\n",
    "tableau.column(\"Entreprises\", width=800)\n",
    "tableau.heading(\"Région\",text=\"Région\")\n",
    "tableau.heading(\"Entreprises\",text=\"Entreprises\")\n",
    "# Création d'un dictionnaire qui va contenir une liste d'entreprises pour chaque région\n",
    "regions_dict ={}\n",
    "# Ouverture du fichier CSV\n",
    "with open('experimentations_5G.csv', newline='', encoding='cp1252') as file:\n",
    "    read = csv.reader(file, delimiter=';')\n",
    "    # Parcours du fichier CSV ligne par ligne\n",
    "    for i, row in enumerate(read):\n",
    "        if i!=0:\n",
    "            entreprise = row[0]  # Entreprise (colonne 0)\n",
    "            lat=float(row[6].replace(',','.'))\n",
    "            lon=float(row[7].replace(',','.'))\n",
    "            if row[11]!='':\n",
    "                region = row[11]     # Région (colonne 11)\n",
    "            else : \n",
    "                region= row[10]\n",
    "            # Ajouter l'entreprise à la liste correspondant à la région\n",
    "            if region not in regions_dict :\n",
    "                regions_dict[region]=[]\n",
    "            if entreprise not in regions_dict[region]:\n",
    "                regions_dict[region].append(entreprise)\n",
    "df = pd.DataFrame({\n",
    "    'Région': regions_dict.keys(),\n",
    "    'Entreprise': regions_dict.values()\n",
    "})\n",
    "\n",
    "df = df.sort_values(by='Région').reset_index(drop=True)\n",
    "for index, row in df.iterrows():\n",
    "    region = row['Région']\n",
    "    entreprises = \", \".join(row['Entreprise'])\n",
    "    tableau.insert(\"\", \"end\", values=(region, entreprises))\n",
    "\n",
    "tableau.pack(padx=20, pady=20)\n",
    "fenetre.mainloop()"
   ]
  },
  {
   "cell_type": "code",
   "execution_count": null,
   "metadata": {},
   "outputs": [],
   "source": []
  }
 ],
 "metadata": {
  "kernelspec": {
   "display_name": "Python 3",
   "language": "python",
   "name": "python3"
  },
  "language_info": {
   "name": "python",
   "version": "3.13.1"
  }
 },
 "nbformat": 4,
 "nbformat_minor": 2
}
