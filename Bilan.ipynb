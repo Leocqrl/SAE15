{
 "cells": [
  {
   "cell_type": "markdown",
   "metadata": {},
   "source": [
    "# **SAE 15**\n",
    "\n",
    "**Où en sont les expérimentations sur la 5G ?**\n",
    "\n",
    "*Toutes les informations présentées dans ce bilan proviennent d'un dataset publié par l'ARCEP, répertoriant les expérimentations actuellement menées en France autour de l'utilisation de la 5G.*\n"
   ]
  },
  {
   "cell_type": "markdown",
   "metadata": {},
   "source": [
    "### **Tableau 1 : Implication régionale et entreprises les plus présentes**\n",
    "\n",
    "Ce **tableau** met en évidence le **niveau d'implication des différentes régions** et les **entreprises les plus actives** dans celles-ci. \n",
    "\n",
    "On remarque que des entreprises comme **B-COM**, **Axians**, ou **Orange** sont particulièrement présentes et actives, avec une couverture qui s'étend **à l'ensemble du territoire français**.\n"
   ]
  },
  {
   "cell_type": "code",
   "execution_count": null,
   "metadata": {
    "vscode": {
     "languageId": "plaintext"
    }
   },
   "outputs": [],
   "source": [
    "import csv\n",
    "import pandas as pd\n",
    "from tkinter import *\n",
    "from tkinter import ttk\n",
    "\n",
    "fenetre = Tk()\n",
    "fenetre.title(\"Tableau des entreprises par région\")\n",
    "colonne = (\"Région\", \"Entreprises\")\n",
    "tableau = ttk.Treeview(fenetre, columns=colonne, show=\"headings\")\n",
    "tableau.column(\"Région\", width=200)\n",
    "tableau.column(\"Entreprises\", width=800)\n",
    "tableau.heading(\"Région\",text=\"Région\")\n",
    "tableau.heading(\"Entreprises\",text=\"Entreprises\")\n",
    "# Création d'un dictionnaire qui va contenir une liste d'entreprises pour chaque région\n",
    "regions_dict ={}\n",
    "# Ouverture du fichier CSV\n",
    "with open('experimentations_5G.csv', newline='', encoding='cp1252') as file:\n",
    "    read = csv.reader(file, delimiter=';')\n",
    "    # Parcours du fichier CSV ligne par ligne\n",
    "    for i, row in enumerate(read):\n",
    "        if i!=0:\n",
    "            entreprise = row[0]  # Entreprise (colonne 0)\n",
    "            lat=float(row[6].replace(',','.'))\n",
    "            lon=float(row[7].replace(',','.'))\n",
    "            if row[11]!='':\n",
    "                region = row[11]     # Région (colonne 11)\n",
    "            else : \n",
    "                region= row[10]\n",
    "            # Ajouter l'entreprise à la liste correspondant à la région\n",
    "            if region not in regions_dict :\n",
    "                regions_dict[region]=[]\n",
    "            if entreprise not in regions_dict[region]:\n",
    "                regions_dict[region].append(entreprise)\n",
    "df = pd.DataFrame({\n",
    "    'Région': regions_dict.keys(),\n",
    "    'Entreprise': regions_dict.values()\n",
    "})\n",
    "\n",
    "df = df.sort_values(by='Région').reset_index(drop=True)\n",
    "for index, row in df.iterrows():\n",
    "    region = row['Région']\n",
    "    entreprises = \", \".join(row['Entreprise'])\n",
    "    tableau.insert(\"\", \"end\", values=(region, entreprises))\n",
    "\n",
    "tableau.pack(padx=20, pady=20)\n",
    "fenetre.mainloop()"
   ]
  },
  {
   "cell_type": "markdown",
   "metadata": {},
   "source": [
    "### **Graphique 1 : Nombre d'expérimentations 5G par région**\n",
    "\n",
    "Ce graphique met en évidence que **l'Île-de-France et la Bretagne se démarquent nettement** en matière d'**expérimentations 5G**. Ces deux régions affichent un engagement marqué dans les **domaines des réseaux et des télécommunications**.\n",
    "\n",
    "- **Île-de-France** : Avec plus de **40 expérimentations**, cette région se distingue en grande partie grâce au **nombre élevé d'entreprises** implantées sur son territoire.  \n",
    "- **Bretagne** : Avec plus de **20 expérimentations**, la Bretagne conforte son statut de **berceau des télécommunications**. Elle a également investi plus de **15 millions d'euros** entre **2018 et 2021** pour renforcer cette position.\n",
    "\n",
    "Ces chiffres reflètent le dynamisme de ces régions dans le développement et l'expérimentation des technologies 5G.\n"
   ]
  },
  {
   "cell_type": "code",
   "execution_count": null,
   "metadata": {
    "vscode": {
     "languageId": "plaintext"
    }
   },
   "outputs": [],
   "source": [
    "import pandas as pd\n",
    "import matplotlib.pyplot as plt\n",
    "\n",
    "# Charger les données avec les paramètres spécifiques\n",
    "file_path = 'experimentations_5G.csv'\n",
    "data = pd.read_csv(file_path, encoding='cp1252', sep=';', quotechar='\"')\n",
    "\n",
    "# Vérifier les colonnes disponibles\n",
    "print(data.columns)\n",
    "\n",
    "# Exemple : Compter le nombre d'expérimentations par région\n",
    "experiments_by_region = data['Région'].value_counts()\n",
    "\n",
    "# Créer un histogramme\n",
    "plt.figure(figsize=(10, 6))\n",
    "experiments_by_region.plot(kind='bar', color='red')\n",
    "plt.title('Nombre d\\'expérimentations 5G par région')\n",
    "plt.xlabel('Région')\n",
    "plt.ylabel('Nombre d\\'expérimentations')\n",
    "plt.xticks(rotation=45)\n",
    "plt.grid(axis='y')\n",
    "\n",
    "# Afficher le graphique\n",
    "plt.tight_layout()\n",
    "plt.show()"
   ]
  },
  {
   "cell_type": "markdown",
   "metadata": {},
   "source": [
    "### **Graphique 3 : Technologies les plus utilisées par les expérimentateurs**\n",
    "\n",
    "De nombreuses entreprises réalisent des expérimentations, et il est possible d'observer une variation dans l'utilisation des différentes technologies. \n",
    "\n",
    "- **Mode de fonctionnement SA (Stand Alone)** : C'est la technologie la plus utilisée. Elle repose sur un réseau 5G qui dispose de ses propres installations, sans dépendance aux réseaux 4G existants.  \n",
    "- **Duplexage temporel (mode TDD)** : Cette technologie permet la transmission bidirectionnelle des données sur un même canal de communication, en partageant le temps d'utilisation entre les transmissions montantes (uplink) et descendantes (downlink).  \n",
    "- **Small cells** : Il s'agit de points d'accès à un réseau de télécommunications mobiles.\n",
    "\n",
    "À titre de comparaison, la technologie **Stand Alone** est utilisée plus de **deux fois** plus souvent que les expérimentations concernant les technologies **5G** et **6G**.\n"
   ]
  },
  {
   "cell_type": "code",
   "execution_count": null,
   "metadata": {
    "vscode": {
     "languageId": "plaintext"
    }
   },
   "outputs": [],
   "source": [
    "import pandas as pd\n",
    "import matplotlib.pyplot as plt\n",
    "\n",
    "# Charger les données avec les paramètres spécifiques\n",
    "file_path = 'experimentations_5G.csv'\n",
    "data = pd.read_csv(file_path, encoding='cp1252', sep=';', quotechar='\"')\n",
    "\n",
    "# Vérifier les colonnes disponibles\n",
    "print(data.columns)\n",
    "\n",
    "# Exemple : Compter le nombre d'expérimentations par région\n",
    "experiments_by_region = data['Région'].value_counts()\n",
    "\n",
    "# Créer un histogramme\n",
    "plt.figure(figsize=(10, 6))\n",
    "experiments_by_region.plot(kind='bar', color='red')\n",
    "plt.title('Nombre d\\'expérimentations 5G par région')\n",
    "plt.xlabel('Région')\n",
    "plt.ylabel('Nombre d\\'expérimentations')\n",
    "plt.xticks(rotation=45)\n",
    "plt.grid(axis='y')\n",
    "\n",
    "# Afficher le graphique\n",
    "plt.tight_layout()\n",
    "plt.show()"
   ]
  }
 ],
 "metadata": {
  "language_info": {
   "name": "python"
  }
 },
 "nbformat": 4,
 "nbformat_minor": 2
}
