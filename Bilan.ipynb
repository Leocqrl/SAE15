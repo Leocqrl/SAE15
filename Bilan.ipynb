{
 "cells": [
  {
   "cell_type": "markdown",
   "metadata": {},
   "source": [
    "# SAE 15\n",
    "\n",
    "\n",
    "***Où en sont les expérimentations sur la 5G ?***\n",
    "\n",
    "*Toute les informations utilisées dans ce bilan proviennent d'un dataset portant sur les expérimentations menées actuellement en France par l'ARCEP autour de l'utilisation de la 5G.*"
   ]
  },
  {
   "cell_type": "markdown",
   "metadata": {},
   "source": [
    "### **Tableau 1 :***\n",
    "\n",
    "Ce **tableau** nous permet de **voir que certaines régions sont plus ou moins impliqué** mais surtout quels sont **les entreprises les plus présentes** dans celles-ci. Certains noms comme __B-COM__, __Axians__ ou __Orange__ sont assez présent et ce **partout en France**."
   ]
  },
  {
   "cell_type": "code",
   "execution_count": null,
   "metadata": {
    "vscode": {
     "languageId": "plaintext"
    }
   },
   "outputs": [],
   "source": [
    "import csv\n",
    "import pandas as pd\n",
    "from tkinter import *\n",
    "from tkinter import ttk\n",
    "\n",
    "fenetre = Tk()\n",
    "fenetre.title(\"Tableau des entreprises par région\")\n",
    "colonne = (\"Région\", \"Entreprises\")\n",
    "tableau = ttk.Treeview(fenetre, columns=colonne, show=\"headings\")\n",
    "tableau.column(\"Région\", width=200)\n",
    "tableau.column(\"Entreprises\", width=800)\n",
    "tableau.heading(\"Région\",text=\"Région\")\n",
    "tableau.heading(\"Entreprises\",text=\"Entreprises\")\n",
    "# Création d'un dictionnaire qui va contenir une liste d'entreprises pour chaque région\n",
    "regions_dict ={}\n",
    "# Ouverture du fichier CSV\n",
    "with open('experimentations_5G.csv', newline='', encoding='cp1252') as file:\n",
    "    read = csv.reader(file, delimiter=';')\n",
    "    # Parcours du fichier CSV ligne par ligne\n",
    "    for i, row in enumerate(read):\n",
    "        if i!=0:\n",
    "            entreprise = row[0]  # Entreprise (colonne 0)\n",
    "            lat=float(row[6].replace(',','.'))\n",
    "            lon=float(row[7].replace(',','.'))\n",
    "            if row[11]!='':\n",
    "                region = row[11]     # Région (colonne 11)\n",
    "            else : \n",
    "                region= row[10]\n",
    "            # Ajouter l'entreprise à la liste correspondant à la région\n",
    "            if region not in regions_dict :\n",
    "                regions_dict[region]=[]\n",
    "            if entreprise not in regions_dict[region]:\n",
    "                regions_dict[region].append(entreprise)\n",
    "df = pd.DataFrame({\n",
    "    'Région': regions_dict.keys(),\n",
    "    'Entreprise': regions_dict.values()\n",
    "})\n",
    "\n",
    "df = df.sort_values(by='Région').reset_index(drop=True)\n",
    "for index, row in df.iterrows():\n",
    "    region = row['Région']\n",
    "    entreprises = \", \".join(row['Entreprise'])\n",
    "    tableau.insert(\"\", \"end\", values=(region, entreprises))\n",
    "\n",
    "tableau.pack(padx=20, pady=20)\n",
    "fenetre.mainloop()"
   ]
  },
  {
   "cell_type": "markdown",
   "metadata": {},
   "source": [
    "## Graphique 1 : Nombre d'expérimentations 5G par région\n",
    "\n",
    "Sur ce graphique, on observe que l'Île-de-France et la Bretagne sont loin devant en terme d'expérimentations 5G. En effet, ces régions sont très engagées dans les expérimentations sur les thèmes des réseaux et des télécommunications. Le nombre d'entreprise placés en Île-de-France explique ce fort nombre de plus de 40 expérimentations et le haut chiffre de plus de 20 expérimentations en Bretagne s'explique. En effet, la Bretagne est le berceau des télécommunications, elle a d'ailleurs investi plus de 15millions d'euro entre 2018 et 2021. \n"
   ]
  },
  {
   "cell_type": "code",
   "execution_count": null,
   "metadata": {
    "vscode": {
     "languageId": "plaintext"
    }
   },
   "outputs": [],
   "source": [
    "import pandas as pd\n",
    "import matplotlib.pyplot as plt\n",
    "\n",
    "# Charger les données avec les paramètres spécifiques\n",
    "file_path = 'experimentations_5G.csv'\n",
    "data = pd.read_csv(file_path, encoding='cp1252', sep=';', quotechar='\"')\n",
    "\n",
    "# Vérifier les colonnes disponibles\n",
    "print(data.columns)\n",
    "\n",
    "# Exemple : Compter le nombre d'expérimentations par région\n",
    "experiments_by_region = data['Région'].value_counts()\n",
    "\n",
    "# Créer un histogramme\n",
    "plt.figure(figsize=(10, 6))\n",
    "experiments_by_region.plot(kind='bar', color='red')\n",
    "plt.title('Nombre d\\'expérimentations 5G par région')\n",
    "plt.xlabel('Région')\n",
    "plt.ylabel('Nombre d\\'expérimentations')\n",
    "plt.xticks(rotation=45)\n",
    "plt.grid(axis='y')\n",
    "\n",
    "# Afficher le graphique\n",
    "plt.tight_layout()\n",
    "plt.show()"
   ]
  }
 ],
 "metadata": {
  "language_info": {
   "name": "python"
  }
 },
 "nbformat": 4,
 "nbformat_minor": 2
}
